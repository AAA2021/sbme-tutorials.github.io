{
 "cells": [
  {
   "cell_type": "markdown",
   "metadata": {},
   "source": [
    "## Getting started with python\n",
    "Python is interpreted high level programming language for general purpose computing. \n",
    "\n",
    "\n",
    "\n",
    "### Variables\n",
    "\n",
    "Python is untyped language "
   ]
  },
  {
   "cell_type": "code",
   "execution_count": 1,
   "metadata": {
    "collapsed": false
   },
   "outputs": [
    {
     "name": "stdout",
     "output_type": "stream",
     "text": [
      "5\n",
      "Hello SBME\n"
     ]
    }
   ],
   "source": [
    "x = 5\n",
    "y = 'Hello SBME'\n",
    "print(x)\n",
    "print(y)"
   ]
  },
  {
   "cell_type": "markdown",
   "metadata": {},
   "source": [
    "### Lists"
   ]
  },
  {
   "cell_type": "code",
   "execution_count": 2,
   "metadata": {
    "collapsed": false
   },
   "outputs": [
    {
     "name": "stdout",
     "output_type": "stream",
     "text": [
      "[2, 7, 55, 565, 8]\n",
      "2\n",
      "565\n"
     ]
    }
   ],
   "source": [
    "# Initialize the list\n",
    "myList = [2, 55, 565]\n",
    "\n",
    "# add an element at the end of the list\n",
    "myList.append(8)\n",
    "\n",
    "# Add element in specific index\n",
    "myList.insert(1, 7)\n",
    "\n",
    "print( myList ) # ??\n",
    "print( myList[0] ) # ??\n",
    "print( myList[3] ) # ??"
   ]
  },
  {
   "cell_type": "markdown",
   "metadata": {},
   "source": [
    "### Arithmetic Operations"
   ]
  },
  {
   "cell_type": "code",
   "execution_count": 3,
   "metadata": {
    "collapsed": true
   },
   "outputs": [],
   "source": [
    "x = 19\n",
    "y = 18 \n",
    "\n",
    "z = x / y\n",
    "z = x * y\n",
    "z = x + y\n",
    "z = x - y"
   ]
  },
  {
   "cell_type": "markdown",
   "metadata": {},
   "source": [
    "### Comparison Operators\n",
    "\n",
    "operator | meaning\n",
    "---|---\n",
    "==\t|Equal to\n",
    "!=\t|Not equal to\n",
    "<\t|Less than\n",
    ">\t|Greater than\n",
    "<=\t|Less than or equal to\n",
    ">=\t|Greater than or equal to"
   ]
  },
  {
   "cell_type": "markdown",
   "metadata": {},
   "source": [
    "### Logical Operations"
   ]
  },
  {
   "cell_type": "code",
   "execution_count": 4,
   "metadata": {
    "collapsed": false
   },
   "outputs": [
    {
     "data": {
      "text/plain": [
       "False"
      ]
     },
     "execution_count": 4,
     "metadata": {},
     "output_type": "execute_result"
    }
   ],
   "source": [
    "x = True\n",
    "y = False \n",
    "\n",
    "x or y \n",
    "x and y \n",
    "not x "
   ]
  },
  {
   "cell_type": "markdown",
   "metadata": {},
   "source": [
    "### If, elif, else"
   ]
  },
  {
   "cell_type": "code",
   "execution_count": 5,
   "metadata": {
    "collapsed": false
   },
   "outputs": [
    {
     "name": "stdout",
     "output_type": "stream",
     "text": [
      "x is greater than y\n"
     ]
    }
   ],
   "source": [
    "x = 25 \n",
    "y = 20 \n",
    "\n",
    "if x < y:\n",
    "    print(\"y is greater than x\")\n",
    "elif x == y:\n",
    "    print(\"x and y are equal\")\n",
    "else:\n",
    "    print(\"x is greater than y\")"
   ]
  },
  {
   "cell_type": "markdown",
   "metadata": {},
   "source": [
    "### Loops"
   ]
  },
  {
   "cell_type": "code",
   "execution_count": 6,
   "metadata": {
    "collapsed": false
   },
   "outputs": [
    {
     "name": "stdout",
     "output_type": "stream",
     "text": [
      "0\n",
      "1\n",
      "2\n",
      "3\n",
      "4\n",
      "5\n",
      "6\n",
      "7\n",
      "8\n",
      "9\n"
     ]
    }
   ],
   "source": [
    "for i in range(10):\n",
    "  print( i )"
   ]
  },
  {
   "cell_type": "code",
   "execution_count": 7,
   "metadata": {
    "collapsed": false
   },
   "outputs": [
    {
     "name": "stdout",
     "output_type": "stream",
     "text": [
      "0\n",
      "1\n",
      "2\n",
      "3\n",
      "4\n",
      "5\n",
      "6\n",
      "7\n",
      "8\n",
      "9\n"
     ]
    }
   ],
   "source": [
    "i = 0\n",
    "while i < 10 :\n",
    "  print( i )\n",
    "  i += 1"
   ]
  },
  {
   "cell_type": "markdown",
   "metadata": {},
   "source": [
    "### Functions"
   ]
  },
  {
   "cell_type": "code",
   "execution_count": 8,
   "metadata": {
    "collapsed": false
   },
   "outputs": [
    {
     "name": "stdout",
     "output_type": "stream",
     "text": [
      "3.0\n"
     ]
    }
   ],
   "source": [
    "def mean( list ):\n",
    "  sum = 0\n",
    "  for element in list:\n",
    "    sum += element\n",
    "  return sum / len( list )\n",
    "\n",
    "m = mean([1,2,3,4,5])\n",
    "print( m )"
   ]
  },
  {
   "cell_type": "markdown",
   "metadata": {},
   "source": [
    "### Importing Libraries"
   ]
  },
  {
   "cell_type": "code",
   "execution_count": 9,
   "metadata": {
    "collapsed": false
   },
   "outputs": [],
   "source": [
    "import numpy as np\n",
    "from scipy import signal"
   ]
  },
  {
   "cell_type": "markdown",
   "metadata": {},
   "source": [
    "# Bioinformatics algorithms"
   ]
  },
  {
   "cell_type": "markdown",
   "metadata": {},
   "source": [
    "## Counting pattern in text"
   ]
  },
  {
   "cell_type": "code",
   "execution_count": 10,
   "metadata": {
    "collapsed": false
   },
   "outputs": [
    {
     "data": {
      "text/plain": [
       "2"
      ]
     },
     "execution_count": 10,
     "metadata": {},
     "output_type": "execute_result"
    }
   ],
   "source": [
    "txt = \"GCGCG\"\n",
    "pattern = \"GCG\"\n",
    "def patternCount(txt, pattern):\n",
    "    count = 0\n",
    "    for i in range((len(txt) - len(pattern))+1):\n",
    "        #print(i, \" \", txt[i:i+len(pattern)], end=\" \")\n",
    "        if txt[i:i+len(pattern)] == pattern:\n",
    "            #print(\"Matched\")\n",
    "            count += 1\n",
    "        else:\n",
    "            pass\n",
    "            #print(\"Not Matched\")\n",
    "\n",
    "    #print(\"Count = \",count)\n",
    "    return count\n",
    "\n",
    "\n",
    "patternCount(\"GCGCG\", \"GCG\")"
   ]
  },
  {
   "cell_type": "markdown",
   "metadata": {},
   "source": [
    "## Getting the revrsed complement"
   ]
  },
  {
   "cell_type": "code",
   "execution_count": 11,
   "metadata": {
    "collapsed": false
   },
   "outputs": [
    {
     "name": "stdout",
     "output_type": "stream",
     "text": [
      "T <-> A\n",
      "G <-> C\n",
      "C <-> G\n",
      "C <-> G\n",
      "A <-> T\n"
     ]
    }
   ],
   "source": [
    "text = \"ACCGT\"\n",
    "for i in reversed(text):\n",
    "    if i == \"A\":\n",
    "        print(i + \" <-> T\")\n",
    "    elif i == \"T\":\n",
    "        print(i + \" <-> A\")\n",
    "    elif i == \"C\":\n",
    "        print(i + \" <-> G\")\n",
    "    else:\n",
    "        print(i+\" <-> C\")"
   ]
  },
  {
   "cell_type": "markdown",
   "metadata": {},
   "source": [
    "## Finding frequent words with length k"
   ]
  },
  {
   "cell_type": "code",
   "execution_count": 12,
   "metadata": {
    "collapsed": false
   },
   "outputs": [
    {
     "data": {
      "text/plain": [
       "{'CATG', 'GCAT'}"
      ]
     },
     "execution_count": 12,
     "metadata": {},
     "output_type": "execute_result"
    }
   ],
   "source": [
    "text = \"ACGTTGCATGTCGCATGATGCATGAGAGCT\"\n",
    "k = 4 \n",
    "\n",
    "def frequentWords(text, k):\n",
    "    frequentWords = set()\n",
    "    counts = []\n",
    "    for i in range(len(text)-k+1):\n",
    "        pattern = text[i:i+k]\n",
    "        counts.insert(i,patternCount(text, pattern))\n",
    "    maxCount = max(counts)\n",
    "    for i in range(len(text)-k+1):\n",
    "        val = counts[i]\n",
    "        if val == maxCount:\n",
    "            frequentWords.add(text[i:i+k])\n",
    "    return frequentWords\n",
    "        \n",
    "frequentWords(text, k)"
   ]
  }
 ],
 "metadata": {
  "kernelspec": {
   "display_name": "Python 3",
   "language": "python",
   "name": "python3"
  },
  "language_info": {
   "codemirror_mode": {
    "name": "ipython",
    "version": 3
   },
   "file_extension": ".py",
   "mimetype": "text/x-python",
   "name": "python",
   "nbconvert_exporter": "python",
   "pygments_lexer": "ipython3",
   "version": "3.5.4"
  }
 },
 "nbformat": 4,
 "nbformat_minor": 0
}
