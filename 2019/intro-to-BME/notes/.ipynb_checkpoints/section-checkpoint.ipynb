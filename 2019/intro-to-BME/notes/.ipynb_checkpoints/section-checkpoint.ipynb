{
 "cells": [
  {
   "cell_type": "markdown",
   "metadata": {},
   "source": [
    "# List in Python"
   ]
  },
  {
   "cell_type": "code",
   "execution_count": null,
   "metadata": {},
   "outputs": [],
   "source": [
    "# Define a list\n",
    "myList = [4, 56,6] \n",
    "print(myList)\n",
    "\n",
    "# insert at an index\n",
    "myList.insert(1,4)\n",
    "print(myList)\n",
    "\n",
    "# Get last element\n",
    "print(myList.pop())\n",
    "\n",
    "# At at last\n",
    "myList.append(44)\n",
    "print(myList)"
   ]
  },
  {
   "cell_type": "markdown",
   "metadata": {},
   "source": [
    "# Arithmetic Operations"
   ]
  },
  {
   "cell_type": "code",
   "execution_count": null,
   "metadata": {},
   "outputs": [],
   "source": [
    "x = 45\n",
    "y = 44 \n",
    "print(y%x)"
   ]
  },
  {
   "cell_type": "markdown",
   "metadata": {},
   "source": [
    "# Comparison operators"
   ]
  },
  {
   "cell_type": "code",
   "execution_count": null,
   "metadata": {},
   "outputs": [],
   "source": [
    "x = True\n",
    "y = False \n",
    "# print(x and y)\n",
    "# print(x or y)\n",
    "# print(not x)\n",
    "print(not y)"
   ]
  },
  {
   "cell_type": "markdown",
   "metadata": {},
   "source": [
    "# If elif and else"
   ]
  },
  {
   "cell_type": "code",
   "execution_count": null,
   "metadata": {},
   "outputs": [],
   "source": [
    "x = 25 \n",
    "y = 4\n",
    "if x > y:\n",
    "    print(\"x is greater than y\")\n",
    "elif x < y: \n",
    "    print(\"y is greater than x\")\n",
    "else:\n",
    "    print(\"y and X are equal\")"
   ]
  },
  {
   "cell_type": "markdown",
   "metadata": {},
   "source": [
    "# Loops "
   ]
  },
  {
   "cell_type": "code",
   "execution_count": null,
   "metadata": {},
   "outputs": [],
   "source": [
    "# For loop\n",
    "# for i in range(65,91):\n",
    "#     print(chr(i),\"\\t\",end=\"\")\n",
    "\n",
    "# While loop\n",
    "i = 0\n",
    "while i < 10:\n",
    "    print(i)\n",
    "    i += 1"
   ]
  },
  {
   "cell_type": "code",
   "execution_count": null,
   "metadata": {},
   "outputs": [],
   "source": [
    "def getAverage(myList):\n",
    "    \"\"\"Get the average of the list\n",
    "    \n",
    "    Parameters:\n",
    "    ------------\n",
    "    myList : A list of numbers\n",
    "    \n",
    "    >>> getAverage([1, 2, 3, 4, 5])\n",
    "    3.0\n",
    "    \n",
    "    Returns:\n",
    "    --------\n",
    "    the average of the list\n",
    "    \"\"\"\n",
    "    total = 0\n",
    "    for i in myList:\n",
    "        total += i\n",
    "    average = total/len(myList)\n",
    "    return average\n",
    "getAverage(range(1,6))"
   ]
  },
  {
   "cell_type": "code",
   "execution_count": null,
   "metadata": {},
   "outputs": [],
   "source": [
    "def patternCount(text, pattern):\n",
    "    count = 0\n",
    "    for i in range(len(text) - len(pattern)+1):\n",
    "        if text[i:i+len(pattern)] == pattern:\n",
    "            count += 1\n",
    "    return count\n"
   ]
  },
  {
   "cell_type": "code",
   "execution_count": null,
   "metadata": {},
   "outputs": [],
   "source": [
    "file = open('data.txt')\n",
    "# for line in file:\n",
    "#     print(line.strip())\n",
    "# Pattern is first line\n",
    "text = file.readline().strip()\n",
    "print(text)\n",
    "#  text is second line\n",
    "pattern = file.readline().strip()\n",
    "print(pattern)\n",
    "patternCount(text, pattern)\n"
   ]
  },
  {
   "cell_type": "code",
   "execution_count": null,
   "metadata": {},
   "outputs": [],
   "source": [
    "# Set in a list of unique values\n",
    "x = set()\n",
    "x.add(5)\n",
    "x.add(6)\n",
    "x.add(5)\n",
    "print(x)"
   ]
  },
  {
   "cell_type": "code",
   "execution_count": null,
   "metadata": {},
   "outputs": [],
   "source": []
  },
  {
   "cell_type": "code",
   "execution_count": null,
   "metadata": {},
   "outputs": [],
   "source": []
  }
 ],
 "metadata": {
  "kernelspec": {
   "display_name": "Python 3",
   "language": "python",
   "name": "python3"
  },
  "language_info": {
   "codemirror_mode": {
    "name": "ipython",
    "version": 3
   },
   "file_extension": ".py",
   "mimetype": "text/x-python",
   "name": "python",
   "nbconvert_exporter": "python",
   "pygments_lexer": "ipython3",
   "version": "3.6.2"
  }
 },
 "nbformat": 4,
 "nbformat_minor": 1
}
